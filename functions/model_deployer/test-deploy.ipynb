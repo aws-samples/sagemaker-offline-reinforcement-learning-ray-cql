{
 "cells": [
  {
   "cell_type": "code",
   "execution_count": 1,
   "id": "0c46f218-f2e0-404c-9f46-3f47d66360e6",
   "metadata": {
    "tags": []
   },
   "outputs": [],
   "source": [
    "import sys, os\n",
    "\n",
    "import json\n",
    "import torch\n",
    "import numpy as np\n",
    "\n",
    "import gym\n",
    "from ray.rllib.algorithms import cql"
   ]
  },
  {
   "cell_type": "code",
   "execution_count": null,
   "id": "f337bfe4-04ae-40b0-a0e6-ce3fe1e2b962",
   "metadata": {},
   "outputs": [],
   "source": []
  },
  {
   "cell_type": "code",
   "execution_count": null,
   "id": "06110096-8133-4af7-b5c8-35a4d91345e6",
   "metadata": {},
   "outputs": [],
   "source": [
    "\n",
    "print('model_dir: ', model_dir)\n",
    "print('model_dir contents')\n",
    "# print(os.listdir(model_dir))\n",
    "list_files(model_dir)\n",
    "\n",
    "checkpoint_path = os.path.join(model_dir,'best_checkpoint')\n",
    "data_file = os.path.join(model_dir,'src','4-obs-1-act-rllib-data.json')\n",
    "\n",
    "# return lambda x: x\n",
    "\n",
    "action_space = gym.spaces.Box(low = np.array([-1.]), high = np.array([1.]))\n",
    "observation_space = gym.spaces.Box(low = np.array([-2.]*4), high = np.array([2.]*4))\n",
    "config = (\n",
    "        cql.CQLConfig()\n",
    "        .framework(framework='torch')\n",
    "        .environment(observation_space = observation_space, action_space = action_space)\n",
    "        .offline_data(\n",
    "            input_=data_file,\n",
    "            actions_in_input_normalized=True,\n",
    "        )\n",
    "    )\n",
    "\n",
    "algorithm = config.build()\n",
    "algorithm.restore(checkpoint_path)"
   ]
  },
  {
   "cell_type": "code",
   "execution_count": 8,
   "id": "f2a1bcf9-f034-44b9-bdf7-88eccb7dac8e",
   "metadata": {
    "tags": []
   },
   "outputs": [
    {
     "name": "stdout",
     "output_type": "stream",
     "text": [
      "inference.py\n",
      "src/inference.py\n",
      "requirements.txt\n",
      "src/requirements.txt\n",
      "4-obs-1-act-rllib-data.json\n",
      "src/4-obs-1-act-rllib-data.json\n"
     ]
    }
   ],
   "source": [
    "shpfiles = []\n",
    "for dirpath, _, files in os.walk('src'):\n",
    "    for x in files:\n",
    "        print(os.path.join(dirpath, x))"
   ]
  },
  {
   "cell_type": "code",
   "execution_count": 4,
   "id": "60ee2508-e195-494e-a47a-1ae1cb57a041",
   "metadata": {
    "tags": []
   },
   "outputs": [
    {
     "data": {
      "text/plain": [
       "['src/inference.py', 'src/requirements.txt', 'src/4-obs-1-act-rllib-data.json']"
      ]
     },
     "execution_count": 4,
     "metadata": {},
     "output_type": "execute_result"
    }
   ],
   "source": [
    "shpfiles"
   ]
  },
  {
   "cell_type": "code",
   "execution_count": null,
   "id": "6ba3eafa-af6b-4f3b-a850-c62cd38b5497",
   "metadata": {},
   "outputs": [],
   "source": []
  }
 ],
 "metadata": {
  "kernelspec": {
   "display_name": "Python 3 (ipykernel)",
   "language": "python",
   "name": "python3"
  },
  "language_info": {
   "codemirror_mode": {
    "name": "ipython",
    "version": 3
   },
   "file_extension": ".py",
   "mimetype": "text/x-python",
   "name": "python",
   "nbconvert_exporter": "python",
   "pygments_lexer": "ipython3",
   "version": "3.9.16"
  }
 },
 "nbformat": 4,
 "nbformat_minor": 5
}
